{
 "cells": [
  {
   "cell_type": "code",
   "execution_count": 104,
   "metadata": {},
   "outputs": [],
   "source": [
    "# Author       : Divakara P M\n",
    "# E-Mail       : divakarapm@gmail.com\n",
    "# Contact      : +91-7019321437\n",
    "# Designation  : Artificial Intelligence Engineer\n",
    "#Natural language processing - Text Summarization"
   ]
  },
  {
   "cell_type": "code",
   "execution_count": null,
   "metadata": {},
   "outputs": [],
   "source": [
    "import nltk\n",
    "from string import punctuation\n",
    "from nltk.corpus import stopwords\n",
    "from nltk.tokenize import word_tokenize\n",
    "from nltk.tokenize import sent_tokenize "
   ]
  },
  {
   "cell_type": "code",
   "execution_count": null,
   "metadata": {},
   "outputs": [],
   "source": [
    "value = read_article(\"C:/Users/PC2019/Downloads/msft.txt\")"
   ]
  },
  {
   "cell_type": "code",
   "execution_count": 105,
   "metadata": {},
   "outputs": [
    {
     "data": {
      "text/plain": [
       "'The West Bengal government on Saturday announced the extension of the lockdown till April 30 and closure of all educational institutes till June 10 as the state registered six new COVID-19 cases, taking the total to 122. Apart from West Bengal, Maharashtra, Odisha, Rajasthan, Telangana and Punjab have announced the extension of the lockdown to contain the spread of coronavirus.\\nThe ongoing 21-day nationwide lockdown to contain the COVID-19 crisis, announced by Prime Minister Narendra Modi on March 24, is scheduled to end on April 14. The Centre is considering a request made by most states to extend the ongoing nationwide lockdown by two more weeks beyond April 14 after Modi interacted with chief ministers and told them that focus should be now on health as well as prosperity of the nation.\\nDuring a press conference, state Chief Secretary Rajiva Sinha said the state government will impose a 14-day ‘total lockdown’ in 10 hotspots from where several COVID-19 cases have been reported. Though the chief secretary did not name the areas, he said local markets and all roads in those areas will be completely shut down, and no one will be allowed to enter or step out of their homes.\\nThe report of complete lockdown in some parts of the state led to panic buying as people in large numbers queued outside shops to stock up essential commodities in Dum Dum, Nagerbazar, Bhawanipore and Alipore. The state government is also planning to conduct rapid tests in the hotspots.\\nDuring the interaction with the prime minister, Chief Minister Mamata Banerjee demanded financial aid for the state and Rs 10 lakh crores relief package for the states.\\n“The prime minister, during the video-conference, said the lockdown will be extended till April 30. We have already said that we will support whatever decision the Centre takes in this regard. The PM also said the next two weeks are going to be very crucial and critical,” she told reporters.\\nThe Centre should also bring in a special package for the unorganised and MSME sectors, Banerjee said.\\nOn the Union Home Ministry’s communication to the state’s DGP and chief secretary, objecting to what it called was a “gradual dilution” of the lockdown in West Bengal, Banerjee retorted the country is not fighting any “communal virus” but a disease.\\n“We are not fighting against any communal virus; we are fighting against a disease a disease that spreads through human contact. Wherever we find any problem, we take steps to ensure that the lockdown is there. But that doesn’t mean that shops would remain closed. We would take steps whenever it is needed. We are keeping a watch,” she said.\\nThe chief minister said she has urged the central government to ensure a strict vigil in border areas so that no one is able to sneak in during the lockdown period.\\nBanerjee said that she has informed the prime minister that a few Union ministers and a section of people are spreading “canards and fake news” about COVID-19 situation in the state.\\nHer comments came in the backdrop of allegations by Union ministers and BJP leaders that the state government was trying to hide COVID-19 figures, especially the number of deaths.\\nAsked about the steps taken in the COVID-19 hotspots in West Bengal, she said there are “no hotspots” but “micro-planning areas” where proper measures are being taken.\\n“We have identified some sensitive spots while drawing a map, which was prepared by our COVID-19 task force. We will see to it that the lockdown is totally imposed in those areas.\\n“It does not mean that we will shut down grocery shops, doctors’ chambers or nobody will be allowed to go to market. But gatherings won’t be allowed,” Banerjee said.\\nThe chief minister, however, refused to divulge details of the “micro-planning areas”. On Tuesday, she had said that her government has identified seven COVID-19 hotspots in the state and it was taking measures to break the chain of transmission.\\nThe chief minister said the state government has decided to grant relaxation to some sectors, but everybody has to adhere to the norms and regulations laid down by the health department.\\n“We are thinking of allowing bakeries to function. In tea gardens, we had earlier allowed 15 per cent Workforce. But the owners are keen on 25 per cent workforce, which we are considering,” she said.\\nMarkets and shops selling essential services in West Bengal will now remain open from 10 am to 6 pm in order to avoid crowding, she said.\\nBanerjee said the Corporate Social Responsibility (CSR) should not be applicable only for contributions to the Prime Minister’s Relief Fund. If CSR does not apply to the CM relief fund and other state funds, it is an attack on federal structure, she said.\\nRapid antibody testing will begin in West Bengal in 4-5 days and the state government has asked for 50,000 such kits from the Centre, she said.\\nThe state secretariat ‘Nabanna’ would remain closed for the next two days for sanitization. The opposition Congress and CPI (M) supported Banerjee’s decision to extend the lockdown but said the state government should take proper steps to ensure relief materials reach people.\\nSenior leaders of the BJP met Governor Jagdeep Dhankhar and urged him to ensure that the state government provides “accurate data” on coronavirus cases.'"
      ]
     },
     "execution_count": 105,
     "metadata": {},
     "output_type": "execute_result"
    }
   ],
   "source": [
    "value"
   ]
  },
  {
   "cell_type": "code",
   "execution_count": 102,
   "metadata": {},
   "outputs": [],
   "source": [
    "def read_article(file_name):\n",
    "    file = open(file_name, \"r\",encoding='utf-8')\n",
    "    filedata = file.read()    \n",
    "    return filedata"
   ]
  },
  {
   "cell_type": "code",
   "execution_count": 106,
   "metadata": {},
   "outputs": [],
   "source": [
    "tokens = word_tokenize(value) "
   ]
  },
  {
   "cell_type": "code",
   "execution_count": 107,
   "metadata": {},
   "outputs": [
    {
     "name": "stderr",
     "output_type": "stream",
     "text": [
      "[nltk_data] Downloading package stopwords to\n",
      "[nltk_data]     C:\\Users\\PC2019\\AppData\\Roaming\\nltk_data...\n",
      "[nltk_data]   Package stopwords is already up-to-date!\n"
     ]
    }
   ],
   "source": [
    "nltk.download(\"stopwords\")\n",
    "stop_words = stopwords.words('english')"
   ]
  },
  {
   "cell_type": "code",
   "execution_count": 82,
   "metadata": {},
   "outputs": [
    {
     "data": {
      "text/plain": [
       "'!\"#$%&\\'()*+,-./:;<=>?@[\\\\]^_`{|}~\\n\\n'"
      ]
     },
     "execution_count": 82,
     "metadata": {},
     "output_type": "execute_result"
    }
   ],
   "source": [
    "punctuation = punctuation + '\\n'\n",
    "punctuation"
   ]
  },
  {
   "cell_type": "code",
   "execution_count": 108,
   "metadata": {},
   "outputs": [],
   "source": [
    "word_frequencies = {}\n",
    "for word in tokens:    \n",
    "    if word.lower() not in stop_words:\n",
    "        if word.lower() not in punctuation:\n",
    "            if word not in word_frequencies.keys():\n",
    "                word_frequencies[word] = 1\n",
    "            else:\n",
    "                word_frequencies[word] += 1"
   ]
  },
  {
   "cell_type": "code",
   "execution_count": 109,
   "metadata": {},
   "outputs": [
    {
     "name": "stdout",
     "output_type": "stream",
     "text": [
      "19\n"
     ]
    }
   ],
   "source": [
    "max_frequency = max(word_frequencies.values())\n",
    "print(max_frequency)"
   ]
  },
  {
   "cell_type": "code",
   "execution_count": 110,
   "metadata": {},
   "outputs": [],
   "source": [
    "for word in word_frequencies.keys():\n",
    "    word_frequencies[word] = word_frequencies[word]/max_frequency"
   ]
  },
  {
   "cell_type": "code",
   "execution_count": 111,
   "metadata": {},
   "outputs": [
    {
     "name": "stdout",
     "output_type": "stream",
     "text": [
      "{'West': 0.3157894736842105, 'Bengal': 0.3157894736842105, 'government': 0.5263157894736842, 'Saturday': 0.05263157894736842, 'announced': 0.15789473684210525, 'extension': 0.10526315789473684, 'lockdown': 0.631578947368421, 'till': 0.15789473684210525, 'April': 0.21052631578947367, '30': 0.10526315789473684, 'closure': 0.05263157894736842, 'educational': 0.05263157894736842, 'institutes': 0.05263157894736842, 'June': 0.05263157894736842, '10': 0.21052631578947367, 'state': 0.8421052631578947, 'registered': 0.05263157894736842, 'six': 0.05263157894736842, 'new': 0.05263157894736842, 'COVID-19': 0.42105263157894735, 'cases': 0.15789473684210525, 'taking': 0.10526315789473684, 'total': 0.10526315789473684, '122': 0.05263157894736842, 'Apart': 0.05263157894736842, 'Maharashtra': 0.05263157894736842, 'Odisha': 0.05263157894736842, 'Rajasthan': 0.05263157894736842, 'Telangana': 0.05263157894736842, 'Punjab': 0.05263157894736842, 'contain': 0.10526315789473684, 'spread': 0.05263157894736842, 'coronavirus': 0.10526315789473684, 'ongoing': 0.10526315789473684, '21-day': 0.05263157894736842, 'nationwide': 0.10526315789473684, 'crisis': 0.05263157894736842, 'Prime': 0.10526315789473684, 'Minister': 0.15789473684210525, 'Narendra': 0.05263157894736842, 'Modi': 0.10526315789473684, 'March': 0.05263157894736842, '24': 0.05263157894736842, 'scheduled': 0.05263157894736842, 'end': 0.05263157894736842, '14': 0.10526315789473684, 'Centre': 0.21052631578947367, 'considering': 0.10526315789473684, 'request': 0.05263157894736842, 'made': 0.05263157894736842, 'states': 0.10526315789473684, 'extend': 0.10526315789473684, 'two': 0.15789473684210525, 'weeks': 0.10526315789473684, 'beyond': 0.05263157894736842, 'interacted': 0.05263157894736842, 'chief': 0.3157894736842105, 'ministers': 0.15789473684210525, 'told': 0.10526315789473684, 'focus': 0.05263157894736842, 'health': 0.10526315789473684, 'well': 0.05263157894736842, 'prosperity': 0.05263157894736842, 'nation': 0.05263157894736842, 'press': 0.05263157894736842, 'conference': 0.05263157894736842, 'Chief': 0.10526315789473684, 'Secretary': 0.05263157894736842, 'Rajiva': 0.05263157894736842, 'Sinha': 0.05263157894736842, 'said': 1.0, 'impose': 0.05263157894736842, '14-day': 0.05263157894736842, '‘': 0.10526315789473684, '’': 0.47368421052631576, 'hotspots': 0.2631578947368421, 'several': 0.05263157894736842, 'reported': 0.05263157894736842, 'Though': 0.05263157894736842, 'secretary': 0.10526315789473684, 'name': 0.05263157894736842, 'areas': 0.3157894736842105, 'local': 0.05263157894736842, 'markets': 0.05263157894736842, 'roads': 0.05263157894736842, 'completely': 0.05263157894736842, 'shut': 0.10526315789473684, 'one': 0.10526315789473684, 'allowed': 0.21052631578947367, 'enter': 0.05263157894736842, 'step': 0.05263157894736842, 'homes': 0.05263157894736842, 'report': 0.05263157894736842, 'complete': 0.05263157894736842, 'parts': 0.05263157894736842, 'led': 0.05263157894736842, 'panic': 0.05263157894736842, 'buying': 0.05263157894736842, 'people': 0.15789473684210525, 'large': 0.05263157894736842, 'numbers': 0.05263157894736842, 'queued': 0.05263157894736842, 'outside': 0.05263157894736842, 'shops': 0.21052631578947367, 'stock': 0.05263157894736842, 'essential': 0.10526315789473684, 'commodities': 0.05263157894736842, 'Dum': 0.10526315789473684, 'Nagerbazar': 0.05263157894736842, 'Bhawanipore': 0.05263157894736842, 'Alipore': 0.05263157894736842, 'also': 0.15789473684210525, 'planning': 0.05263157894736842, 'conduct': 0.05263157894736842, 'rapid': 0.05263157894736842, 'tests': 0.05263157894736842, 'interaction': 0.05263157894736842, 'prime': 0.15789473684210525, 'minister': 0.3157894736842105, 'Mamata': 0.05263157894736842, 'Banerjee': 0.3684210526315789, 'demanded': 0.05263157894736842, 'financial': 0.05263157894736842, 'aid': 0.05263157894736842, 'Rs': 0.05263157894736842, 'lakh': 0.05263157894736842, 'crores': 0.05263157894736842, 'relief': 0.15789473684210525, 'package': 0.10526315789473684, '“': 0.631578947368421, 'video-conference': 0.05263157894736842, 'extended': 0.05263157894736842, 'already': 0.05263157894736842, 'support': 0.05263157894736842, 'whatever': 0.05263157894736842, 'decision': 0.10526315789473684, 'takes': 0.05263157894736842, 'regard': 0.05263157894736842, 'PM': 0.05263157894736842, 'next': 0.10526315789473684, 'going': 0.05263157894736842, 'crucial': 0.05263157894736842, 'critical': 0.05263157894736842, '”': 0.5789473684210527, 'reporters': 0.05263157894736842, 'bring': 0.05263157894736842, 'special': 0.05263157894736842, 'unorganised': 0.05263157894736842, 'MSME': 0.05263157894736842, 'sectors': 0.10526315789473684, 'Union': 0.15789473684210525, 'Home': 0.05263157894736842, 'Ministry': 0.05263157894736842, 'communication': 0.05263157894736842, 'DGP': 0.05263157894736842, 'objecting': 0.05263157894736842, 'called': 0.05263157894736842, 'gradual': 0.05263157894736842, 'dilution': 0.05263157894736842, 'retorted': 0.05263157894736842, 'country': 0.05263157894736842, 'fighting': 0.15789473684210525, 'communal': 0.10526315789473684, 'virus': 0.10526315789473684, 'disease': 0.15789473684210525, 'spreads': 0.05263157894736842, 'human': 0.05263157894736842, 'contact': 0.05263157894736842, 'Wherever': 0.05263157894736842, 'find': 0.05263157894736842, 'problem': 0.05263157894736842, 'take': 0.15789473684210525, 'steps': 0.21052631578947367, 'ensure': 0.21052631578947367, 'mean': 0.10526315789473684, 'would': 0.15789473684210525, 'remain': 0.15789473684210525, 'closed': 0.10526315789473684, 'whenever': 0.05263157894736842, 'needed': 0.05263157894736842, 'keeping': 0.05263157894736842, 'watch': 0.05263157894736842, 'urged': 0.10526315789473684, 'central': 0.05263157894736842, 'strict': 0.05263157894736842, 'vigil': 0.05263157894736842, 'border': 0.05263157894736842, 'able': 0.05263157894736842, 'sneak': 0.05263157894736842, 'period': 0.05263157894736842, 'informed': 0.05263157894736842, 'section': 0.05263157894736842, 'spreading': 0.05263157894736842, 'canards': 0.05263157894736842, 'fake': 0.05263157894736842, 'news': 0.05263157894736842, 'situation': 0.05263157894736842, 'comments': 0.05263157894736842, 'came': 0.05263157894736842, 'backdrop': 0.05263157894736842, 'allegations': 0.05263157894736842, 'BJP': 0.10526315789473684, 'leaders': 0.10526315789473684, 'trying': 0.05263157894736842, 'hide': 0.05263157894736842, 'figures': 0.05263157894736842, 'especially': 0.05263157894736842, 'number': 0.05263157894736842, 'deaths': 0.05263157894736842, 'Asked': 0.05263157894736842, 'taken': 0.10526315789473684, 'micro-planning': 0.10526315789473684, 'proper': 0.10526315789473684, 'measures': 0.10526315789473684, 'identified': 0.10526315789473684, 'sensitive': 0.05263157894736842, 'spots': 0.05263157894736842, 'drawing': 0.05263157894736842, 'map': 0.05263157894736842, 'prepared': 0.05263157894736842, 'task': 0.05263157894736842, 'force': 0.05263157894736842, 'see': 0.05263157894736842, 'totally': 0.05263157894736842, 'imposed': 0.05263157894736842, 'grocery': 0.05263157894736842, 'doctors': 0.05263157894736842, 'chambers': 0.05263157894736842, 'nobody': 0.05263157894736842, 'go': 0.05263157894736842, 'market': 0.05263157894736842, 'gatherings': 0.05263157894736842, 'however': 0.05263157894736842, 'refused': 0.05263157894736842, 'divulge': 0.05263157894736842, 'details': 0.05263157894736842, 'Tuesday': 0.05263157894736842, 'seven': 0.05263157894736842, 'break': 0.05263157894736842, 'chain': 0.05263157894736842, 'transmission': 0.05263157894736842, 'decided': 0.05263157894736842, 'grant': 0.05263157894736842, 'relaxation': 0.05263157894736842, 'everybody': 0.05263157894736842, 'adhere': 0.05263157894736842, 'norms': 0.05263157894736842, 'regulations': 0.05263157894736842, 'laid': 0.05263157894736842, 'department': 0.05263157894736842, 'thinking': 0.05263157894736842, 'allowing': 0.05263157894736842, 'bakeries': 0.05263157894736842, 'function': 0.05263157894736842, 'tea': 0.05263157894736842, 'gardens': 0.05263157894736842, 'earlier': 0.05263157894736842, '15': 0.05263157894736842, 'per': 0.10526315789473684, 'cent': 0.10526315789473684, 'Workforce': 0.05263157894736842, 'owners': 0.05263157894736842, 'keen': 0.05263157894736842, '25': 0.05263157894736842, 'workforce': 0.05263157894736842, 'Markets': 0.05263157894736842, 'selling': 0.05263157894736842, 'services': 0.05263157894736842, 'open': 0.05263157894736842, '6': 0.05263157894736842, 'pm': 0.05263157894736842, 'order': 0.05263157894736842, 'avoid': 0.05263157894736842, 'crowding': 0.05263157894736842, 'Corporate': 0.05263157894736842, 'Social': 0.05263157894736842, 'Responsibility': 0.05263157894736842, 'CSR': 0.10526315789473684, 'applicable': 0.05263157894736842, 'contributions': 0.05263157894736842, 'Relief': 0.05263157894736842, 'Fund': 0.05263157894736842, 'apply': 0.05263157894736842, 'CM': 0.05263157894736842, 'fund': 0.05263157894736842, 'funds': 0.05263157894736842, 'attack': 0.05263157894736842, 'federal': 0.05263157894736842, 'structure': 0.05263157894736842, 'Rapid': 0.05263157894736842, 'antibody': 0.05263157894736842, 'testing': 0.05263157894736842, 'begin': 0.05263157894736842, '4-5': 0.05263157894736842, 'days': 0.10526315789473684, 'asked': 0.05263157894736842, '50,000': 0.05263157894736842, 'kits': 0.05263157894736842, 'secretariat': 0.05263157894736842, 'Nabanna': 0.05263157894736842, 'sanitization': 0.05263157894736842, 'opposition': 0.05263157894736842, 'Congress': 0.05263157894736842, 'CPI': 0.05263157894736842, 'supported': 0.05263157894736842, 'materials': 0.05263157894736842, 'reach': 0.05263157894736842, 'Senior': 0.05263157894736842, 'met': 0.05263157894736842, 'Governor': 0.05263157894736842, 'Jagdeep': 0.05263157894736842, 'Dhankhar': 0.05263157894736842, 'provides': 0.05263157894736842, 'accurate': 0.05263157894736842, 'data': 0.05263157894736842}\n"
     ]
    }
   ],
   "source": [
    "print(word_frequencies)"
   ]
  },
  {
   "cell_type": "code",
   "execution_count": 39,
   "metadata": {},
   "outputs": [],
   "source": []
  },
  {
   "cell_type": "code",
   "execution_count": 113,
   "metadata": {},
   "outputs": [
    {
     "data": {
      "text/plain": [
       "['The West Bengal government on Saturday announced the extension of the lockdown till April 30 and closure of all educational institutes till June 10 as the state registered six new COVID-19 cases, taking the total to 122.',\n",
       " 'Apart from West Bengal, Maharashtra, Odisha, Rajasthan, Telangana and Punjab have announced the extension of the lockdown to contain the spread of coronavirus.',\n",
       " 'The ongoing 21-day nationwide lockdown to contain the COVID-19 crisis, announced by Prime Minister Narendra Modi on March 24, is scheduled to end on April 14.',\n",
       " 'The Centre is considering a request made by most states to extend the ongoing nationwide lockdown by two more weeks beyond April 14 after Modi interacted with chief ministers and told them that focus should be now on health as well as prosperity of the nation.',\n",
       " 'During a press conference, state Chief Secretary Rajiva Sinha said the state government will impose a 14-day ‘total lockdown’ in 10 hotspots from where several COVID-19 cases have been reported.',\n",
       " 'Though the chief secretary did not name the areas, he said local markets and all roads in those areas will be completely shut down, and no one will be allowed to enter or step out of their homes.',\n",
       " 'The report of complete lockdown in some parts of the state led to panic buying as people in large numbers queued outside shops to stock up essential commodities in Dum Dum, Nagerbazar, Bhawanipore and Alipore.',\n",
       " 'The state government is also planning to conduct rapid tests in the hotspots.',\n",
       " 'During the interaction with the prime minister, Chief Minister Mamata Banerjee demanded financial aid for the state and Rs 10 lakh crores relief package for the states.',\n",
       " '“The prime minister, during the video-conference, said the lockdown will be extended till April 30.',\n",
       " 'We have already said that we will support whatever decision the Centre takes in this regard.',\n",
       " 'The PM also said the next two weeks are going to be very crucial and critical,” she told reporters.',\n",
       " 'The Centre should also bring in a special package for the unorganised and MSME sectors, Banerjee said.',\n",
       " 'On the Union Home Ministry’s communication to the state’s DGP and chief secretary, objecting to what it called was a “gradual dilution” of the lockdown in West Bengal, Banerjee retorted the country is not fighting any “communal virus” but a disease.',\n",
       " '“We are not fighting against any communal virus; we are fighting against a disease a disease that spreads through human contact.',\n",
       " 'Wherever we find any problem, we take steps to ensure that the lockdown is there.',\n",
       " 'But that doesn’t mean that shops would remain closed.',\n",
       " 'We would take steps whenever it is needed.',\n",
       " 'We are keeping a watch,” she said.',\n",
       " 'The chief minister said she has urged the central government to ensure a strict vigil in border areas so that no one is able to sneak in during the lockdown period.',\n",
       " 'Banerjee said that she has informed the prime minister that a few Union ministers and a section of people are spreading “canards and fake news” about COVID-19 situation in the state.',\n",
       " 'Her comments came in the backdrop of allegations by Union ministers and BJP leaders that the state government was trying to hide COVID-19 figures, especially the number of deaths.',\n",
       " 'Asked about the steps taken in the COVID-19 hotspots in West Bengal, she said there are “no hotspots” but “micro-planning areas” where proper measures are being taken.',\n",
       " '“We have identified some sensitive spots while drawing a map, which was prepared by our COVID-19 task force.',\n",
       " 'We will see to it that the lockdown is totally imposed in those areas.',\n",
       " '“It does not mean that we will shut down grocery shops, doctors’ chambers or nobody will be allowed to go to market.',\n",
       " 'But gatherings won’t be allowed,” Banerjee said.',\n",
       " 'The chief minister, however, refused to divulge details of the “micro-planning areas”.',\n",
       " 'On Tuesday, she had said that her government has identified seven COVID-19 hotspots in the state and it was taking measures to break the chain of transmission.',\n",
       " 'The chief minister said the state government has decided to grant relaxation to some sectors, but everybody has to adhere to the norms and regulations laid down by the health department.',\n",
       " '“We are thinking of allowing bakeries to function.',\n",
       " 'In tea gardens, we had earlier allowed 15 per cent Workforce.',\n",
       " 'But the owners are keen on 25 per cent workforce, which we are considering,” she said.',\n",
       " 'Markets and shops selling essential services in West Bengal will now remain open from 10 am to 6 pm in order to avoid crowding, she said.',\n",
       " 'Banerjee said the Corporate Social Responsibility (CSR) should not be applicable only for contributions to the Prime Minister’s Relief Fund.',\n",
       " 'If CSR does not apply to the CM relief fund and other state funds, it is an attack on federal structure, she said.',\n",
       " 'Rapid antibody testing will begin in West Bengal in 4-5 days and the state government has asked for 50,000 such kits from the Centre, she said.',\n",
       " 'The state secretariat ‘Nabanna’ would remain closed for the next two days for sanitization.',\n",
       " 'The opposition Congress and CPI (M) supported Banerjee’s decision to extend the lockdown but said the state government should take proper steps to ensure relief materials reach people.',\n",
       " 'Senior leaders of the BJP met Governor Jagdeep Dhankhar and urged him to ensure that the state government provides “accurate data” on coronavirus cases.']"
      ]
     },
     "execution_count": 113,
     "metadata": {},
     "output_type": "execute_result"
    }
   ],
   "source": [
    "sent_token = sent_tokenize(value)\n",
    "sent_token"
   ]
  },
  {
   "cell_type": "code",
   "execution_count": 114,
   "metadata": {},
   "outputs": [],
   "source": [
    "sentence_scores = {}\n",
    "for sent in sent_token:\n",
    "    sentence = sent.split(\" \")\n",
    "    for word in sentence:        \n",
    "        if word.lower() in word_frequencies.keys():\n",
    "            if sent not in sentence_scores.keys():\n",
    "                sentence_scores[sent] = word_frequencies[word.lower()]\n",
    "            else:\n",
    "                sentence_scores[sent] += word_frequencies[word.lower()]"
   ]
  },
  {
   "cell_type": "code",
   "execution_count": 115,
   "metadata": {},
   "outputs": [
    {
     "data": {
      "text/plain": [
       "{'The West Bengal government on Saturday announced the extension of the lockdown till April 30 and closure of all educational institutes till June 10 as the state registered six new COVID-19 cases, taking the total to 122.': 3.4210526315789473,\n",
       " 'Apart from West Bengal, Maharashtra, Odisha, Rajasthan, Telangana and Punjab have announced the extension of the lockdown to contain the spread of coronavirus.': 1.0526315789473684,\n",
       " 'The ongoing 21-day nationwide lockdown to contain the COVID-19 crisis, announced by Prime Minister Narendra Modi on March 24, is scheduled to end on April 14.': 1.7368421052631575,\n",
       " 'The Centre is considering a request made by most states to extend the ongoing nationwide lockdown by two more weeks beyond April 14 after Modi interacted with chief ministers and told them that focus should be now on health as well as prosperity of the nation.': 2.5789473684210527,\n",
       " 'During a press conference, state Chief Secretary Rajiva Sinha said the state government will impose a 14-day ‘total lockdown’ in 10 hotspots from where several COVID-19 cases have been reported.': 4.473684210526316,\n",
       " 'Though the chief secretary did not name the areas, he said local markets and all roads in those areas will be completely shut down, and no one will be allowed to enter or step out of their homes.': 2.526315789473684,\n",
       " 'The report of complete lockdown in some parts of the state led to panic buying as people in large numbers queued outside shops to stock up essential commodities in Dum Dum, Nagerbazar, Bhawanipore and Alipore.': 2.5789473684210527,\n",
       " 'The state government is also planning to conduct rapid tests in the hotspots.': 1.7368421052631575,\n",
       " 'During the interaction with the prime minister, Chief Minister Mamata Banerjee demanded financial aid for the state and Rs 10 lakh crores relief package for the states.': 2.4210526315789473,\n",
       " '“The prime minister, during the video-conference, said the lockdown will be extended till April 30.': 2.0,\n",
       " 'We have already said that we will support whatever decision the Centre takes in this regard.': 1.3157894736842104,\n",
       " 'The PM also said the next two weeks are going to be very crucial and critical,” she told reporters.': 1.789473684210526,\n",
       " 'The Centre should also bring in a special package for the unorganised and MSME sectors, Banerjee said.': 0.42105263157894735,\n",
       " 'On the Union Home Ministry’s communication to the state’s DGP and chief secretary, objecting to what it called was a “gradual dilution” of the lockdown in West Bengal, Banerjee retorted the country is not fighting any “communal virus” but a disease.': 1.3684210526315788,\n",
       " '“We are not fighting against any communal virus; we are fighting against a disease a disease that spreads through human contact.': 0.8421052631578947,\n",
       " 'Wherever we find any problem, we take steps to ensure that the lockdown is there.': 1.263157894736842,\n",
       " 'But that doesn’t mean that shops would remain closed.': 0.631578947368421,\n",
       " 'We would take steps whenever it is needed.': 0.5789473684210527,\n",
       " 'We are keeping a watch,” she said.': 0.05263157894736842,\n",
       " 'The chief minister said she has urged the central government to ensure a strict vigil in border areas so that no one is able to sneak in during the lockdown period.': 3.8421052631578956,\n",
       " 'Banerjee said that she has informed the prime minister that a few Union ministers and a section of people are spreading “canards and fake news” about COVID-19 situation in the state.': 2.052631578947368,\n",
       " 'Her comments came in the backdrop of allegations by Union ministers and BJP leaders that the state government was trying to hide COVID-19 figures, especially the number of deaths.': 2.052631578947368,\n",
       " 'Asked about the steps taken in the COVID-19 hotspots in West Bengal, she said there are “no hotspots” but “micro-planning areas” where proper measures are being taken.': 1.8421052631578947,\n",
       " '“We have identified some sensitive spots while drawing a map, which was prepared by our COVID-19 task force.': 0.3684210526315789,\n",
       " 'We will see to it that the lockdown is totally imposed in those areas.': 0.7894736842105261,\n",
       " '“It does not mean that we will shut down grocery shops, doctors’ chambers or nobody will be allowed to go to market.': 0.631578947368421,\n",
       " 'But gatherings won’t be allowed,” Banerjee said.': 0.05263157894736842,\n",
       " 'The chief minister, however, refused to divulge details of the “micro-planning areas”.': 0.47368421052631576,\n",
       " 'On Tuesday, she had said that her government has identified seven COVID-19 hotspots in the state and it was taking measures to break the chain of transmission.': 3.1052631578947363,\n",
       " 'The chief minister said the state government has decided to grant relaxation to some sectors, but everybody has to adhere to the norms and regulations laid down by the health department.': 3.5263157894736854,\n",
       " '“We are thinking of allowing bakeries to function.': 0.15789473684210525,\n",
       " 'In tea gardens, we had earlier allowed 15 per cent Workforce.': 0.5789473684210527,\n",
       " 'But the owners are keen on 25 per cent workforce, which we are considering,” she said.': 0.3684210526315789,\n",
       " 'Markets and shops selling essential services in West Bengal will now remain open from 10 am to 6 pm in order to avoid crowding, she said.': 1.1052631578947365,\n",
       " 'Banerjee said the Corporate Social Responsibility (CSR) should not be applicable only for contributions to the Prime Minister’s Relief Fund.': 1.4210526315789473,\n",
       " 'If CSR does not apply to the CM relief fund and other state funds, it is an attack on federal structure, she said.': 1.2105263157894735,\n",
       " 'Rapid antibody testing will begin in West Bengal in 4-5 days and the state government has asked for 50,000 such kits from the Centre, she said.': 1.894736842105263,\n",
       " 'The state secretariat ‘Nabanna’ would remain closed for the next two days for sanitization.': 1.6842105263157894,\n",
       " 'The opposition Congress and CPI (M) supported Banerjee’s decision to extend the lockdown but said the state government should take proper steps to ensure relief materials reach people.': 4.263157894736841,\n",
       " 'Senior leaders of the BJP met Governor Jagdeep Dhankhar and urged him to ensure that the state government provides “accurate data” on coronavirus cases.': 2.0}"
      ]
     },
     "execution_count": 115,
     "metadata": {},
     "output_type": "execute_result"
    }
   ],
   "source": [
    "sentence_scores"
   ]
  },
  {
   "cell_type": "code",
   "execution_count": 68,
   "metadata": {},
   "outputs": [],
   "source": [
    "from heapq import nlargest"
   ]
  },
  {
   "cell_type": "code",
   "execution_count": 116,
   "metadata": {},
   "outputs": [
    {
     "data": {
      "text/plain": [
       "12"
      ]
     },
     "execution_count": 116,
     "metadata": {},
     "output_type": "execute_result"
    }
   ],
   "source": [
    "select_length = int(len(sent_token)*0.3)\n",
    "select_length"
   ]
  },
  {
   "cell_type": "code",
   "execution_count": 117,
   "metadata": {},
   "outputs": [],
   "source": [
    "summary = nlargest(select_length, sentence_scores, key = sentence_scores.get)"
   ]
  },
  {
   "cell_type": "code",
   "execution_count": 118,
   "metadata": {},
   "outputs": [
    {
     "data": {
      "text/plain": [
       "['During a press conference, state Chief Secretary Rajiva Sinha said the state government will impose a 14-day ‘total lockdown’ in 10 hotspots from where several COVID-19 cases have been reported.',\n",
       " 'The opposition Congress and CPI (M) supported Banerjee’s decision to extend the lockdown but said the state government should take proper steps to ensure relief materials reach people.',\n",
       " 'The chief minister said she has urged the central government to ensure a strict vigil in border areas so that no one is able to sneak in during the lockdown period.',\n",
       " 'The chief minister said the state government has decided to grant relaxation to some sectors, but everybody has to adhere to the norms and regulations laid down by the health department.',\n",
       " 'The West Bengal government on Saturday announced the extension of the lockdown till April 30 and closure of all educational institutes till June 10 as the state registered six new COVID-19 cases, taking the total to 122.',\n",
       " 'On Tuesday, she had said that her government has identified seven COVID-19 hotspots in the state and it was taking measures to break the chain of transmission.',\n",
       " 'The Centre is considering a request made by most states to extend the ongoing nationwide lockdown by two more weeks beyond April 14 after Modi interacted with chief ministers and told them that focus should be now on health as well as prosperity of the nation.',\n",
       " 'The report of complete lockdown in some parts of the state led to panic buying as people in large numbers queued outside shops to stock up essential commodities in Dum Dum, Nagerbazar, Bhawanipore and Alipore.',\n",
       " 'Though the chief secretary did not name the areas, he said local markets and all roads in those areas will be completely shut down, and no one will be allowed to enter or step out of their homes.',\n",
       " 'During the interaction with the prime minister, Chief Minister Mamata Banerjee demanded financial aid for the state and Rs 10 lakh crores relief package for the states.',\n",
       " 'Banerjee said that she has informed the prime minister that a few Union ministers and a section of people are spreading “canards and fake news” about COVID-19 situation in the state.',\n",
       " 'Her comments came in the backdrop of allegations by Union ministers and BJP leaders that the state government was trying to hide COVID-19 figures, especially the number of deaths.']"
      ]
     },
     "execution_count": 118,
     "metadata": {},
     "output_type": "execute_result"
    }
   ],
   "source": [
    "summary"
   ]
  },
  {
   "cell_type": "code",
   "execution_count": 127,
   "metadata": {},
   "outputs": [
    {
     "data": {
      "text/plain": [
       "2311"
      ]
     },
     "execution_count": 127,
     "metadata": {},
     "output_type": "execute_result"
    }
   ],
   "source": [
    "len(final_summary)"
   ]
  },
  {
   "cell_type": "code",
   "execution_count": 126,
   "metadata": {},
   "outputs": [],
   "source": [
    "final_summary = [word for word in summary]\n",
    "summary = ' '.join(final_summary)"
   ]
  },
  {
   "cell_type": "code",
   "execution_count": 120,
   "metadata": {},
   "outputs": [
    {
     "data": {
      "text/plain": [
       "5281"
      ]
     },
     "execution_count": 120,
     "metadata": {},
     "output_type": "execute_result"
    }
   ],
   "source": [
    "len(value)"
   ]
  }
 ],
 "metadata": {
  "kernelspec": {
   "display_name": "Python 3",
   "language": "python",
   "name": "python3"
  },
  "language_info": {
   "codemirror_mode": {
    "name": "ipython",
    "version": 3
   },
   "file_extension": ".py",
   "mimetype": "text/x-python",
   "name": "python",
   "nbconvert_exporter": "python",
   "pygments_lexer": "ipython3",
   "version": "3.7.6"
  }
 },
 "nbformat": 4,
 "nbformat_minor": 4
}
